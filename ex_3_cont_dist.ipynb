{
 "cells": [
  {
   "cell_type": "code",
   "execution_count": null,
   "id": "83690695",
   "metadata": {},
   "outputs": [],
   "source": [
    "import matplotlib.pyplot as plt\n",
    "from scipy.stats import expon, norm, pareto\n",
    "import numpy as np"
   ]
  },
  {
   "cell_type": "markdown",
   "id": "e5119827",
   "metadata": {},
   "source": [
    "Exponential dist"
   ]
  },
  {
   "cell_type": "code",
   "execution_count": null,
   "id": "cea43bd2",
   "metadata": {},
   "outputs": [],
   "source": [
    "\n",
    "\n",
    "def exponential_sample(n, lam=1.0):\n",
    "    U = np.random.uniform(0, 1, size=n)\n",
    "    return -np.log(U) / lam\n"
   ]
  },
  {
   "cell_type": "markdown",
   "id": "58f4795b",
   "metadata": {},
   "source": [
    "Normal dist using Box-Muller"
   ]
  },
  {
   "cell_type": "code",
   "execution_count": null,
   "id": "4f8528a3",
   "metadata": {},
   "outputs": [],
   "source": [
    "def normal_sample(n):\n",
    "    U1 = np.random.uniform(0, 1, size=n//2)\n",
    "    U2 = np.random.uniform(0, 1, size=n//2)\n",
    "    R = np.sqrt(-2 * np.log(U1))\n",
    "    theta = 2 * np.pi * U2\n",
    "    Z1 = R * np.cos(theta)\n",
    "    Z2 = R * np.sin(theta)\n",
    "    return np.concatenate([Z1, Z2])\n"
   ]
  },
  {
   "cell_type": "markdown",
   "id": "8f94c9bf",
   "metadata": {},
   "source": [
    "Pareto"
   ]
  },
  {
   "cell_type": "code",
   "execution_count": null,
   "id": "c0a4b3bb",
   "metadata": {},
   "outputs": [],
   "source": [
    "def pareto_sample(n, k, beta=1.0):\n",
    "    U = np.random.uniform(0, 1, size=n)\n",
    "    return beta * (U ** (-1 / k))\n"
   ]
  },
  {
   "cell_type": "code",
   "execution_count": null,
   "id": "14fe53d6",
   "metadata": {},
   "outputs": [],
   "source": [
    "\n",
    "\n",
    "def plot_histogram(data, dist_pdf, title, support=None):\n",
    "    plt.hist(data, bins=50, density=True, alpha=0.6, label=\"Simulated\")\n",
    "    x = np.linspace(min(data), max(data), 500) if support is None else np.linspace(*support, 500)\n",
    "    plt.plot(x, dist_pdf(x), 'r-', lw=2, label=\"Analytical PDF\")\n",
    "    plt.title(title)\n",
    "    plt.legend()\n",
    "    plt.show()\n"
   ]
  }
 ],
 "metadata": {
  "language_info": {
   "name": "python"
  }
 },
 "nbformat": 4,
 "nbformat_minor": 5
}
