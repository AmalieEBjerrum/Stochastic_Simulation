{
 "cells": [
  {
   "cell_type": "code",
   "execution_count": 7,
   "id": "83690695",
   "metadata": {},
   "outputs": [],
   "source": [
    "import matplotlib.pyplot as plt\n",
    "from scipy.stats import expon, norm, pareto\n",
    "import numpy as np\n",
    "from scipy.stats import kstest"
   ]
  },
  {
   "cell_type": "markdown",
   "id": "e5119827",
   "metadata": {},
   "source": [
    "Exponential dist"
   ]
  },
  {
   "cell_type": "code",
   "execution_count": 8,
   "id": "cea43bd2",
   "metadata": {},
   "outputs": [],
   "source": [
    "\n",
    "\n",
    "def exponential_sample(n, lam=1.0):\n",
    "    U = np.random.uniform(0, 1, size=n)\n",
    "    return -np.log(U) / lam\n"
   ]
  },
  {
   "cell_type": "code",
   "execution_count": 15,
   "id": "ad4e3a4a",
   "metadata": {},
   "outputs": [
    {
     "name": "stdout",
     "output_type": "stream",
     "text": [
      "Chi-squared statistic: 15.1632, p-value: 0.6507\n",
      "Kolmogorov-Smirnov statistic: 0.03071447241676928, p-value: 0.2960187785761417\n",
      "Mean test passed: True, Variance test passed: True\n"
     ]
    }
   ],
   "source": [
    "# Parameters\n",
    "n = 1000\n",
    "lam = 1.0\n",
    "sample = exponential_sample(n, lam)\n",
    "\n",
    "# Define histogram bins\n",
    "bins = np.linspace(0, 5, 20)\n",
    "\n",
    "# Observed frequencies\n",
    "observed_counts, bin_edges = np.histogram(sample, bins=bins)\n",
    "\n",
    "# Expected frequencies using exponential CDF\n",
    "expected_probs = expon.cdf(bin_edges[1:], scale=1/lam) - expon.cdf(bin_edges[:-1], scale=1/lam)\n",
    "expected_counts = n * expected_probs\n",
    "\n",
    "# Filter out zero expected bins\n",
    "mask = expected_counts > 0\n",
    "observed_counts = observed_counts[mask]\n",
    "expected_counts = expected_counts[mask]\n",
    "\n",
    "# Normalize expected counts to match observed total\n",
    "expected_counts *= observed_counts.sum() / expected_counts.sum()\n",
    "\n",
    "# Chi-squared test\n",
    "chisq_stat, p_val = chisquare(f_obs=observed_counts, f_exp=expected_counts)\n",
    "\n",
    "print(f\"Chi-squared statistic: {chisq_stat:.4f}, p-value: {p_val:.4f}\")\n",
    "\n",
    "def ks_test_exponential_sample(n, lam=1.0):\n",
    "    sample = exponential_sample(n, lam)\n",
    "    d_statistic, p_value = kstest(sample, 'expon', args=(0, 1/lam))\n",
    "    return d_statistic, p_value\n",
    "\n",
    "\n",
    "#test the exponential sample function using the knuth test\n",
    "def knuth_test_exponential_sample(n, lam=1.0):\n",
    "    sample = exponential_sample(n, lam)\n",
    "    mean = np.mean(sample)\n",
    "    variance = np.var(sample)\n",
    "    \n",
    "    # Knuth's test checks if the sample mean and variance are close to expected values\n",
    "    mean_test = np.abs(mean - 1/lam) < 0.1\n",
    "    variance_test = np.abs(variance - 1/(lam**2)) < 0.1\n",
    "    \n",
    "    return mean_test, variance_test\n",
    "\n",
    "#run and print the tests\n",
    "if __name__ == \"__main__\":\n",
    "    n = 1000\n",
    "    lam = 1.0\n",
    "\n",
    " \n",
    "\n",
    "    d_statistic, p_value = ks_test_exponential_sample(n, lam)\n",
    "    print(f\"Kolmogorov-Smirnov statistic: {d_statistic}, p-value: {p_value}\")\n",
    "\n",
    "    mean_test, variance_test = knuth_test_exponential_sample(n, lam)\n",
    "    print(f\"Mean test passed: {mean_test}, Variance test passed: {variance_test}\")"
   ]
  },
  {
   "cell_type": "markdown",
   "id": "58f4795b",
   "metadata": {},
   "source": [
    "Normal dist using Box-Muller"
   ]
  },
  {
   "cell_type": "code",
   "execution_count": 17,
   "id": "4f8528a3",
   "metadata": {},
   "outputs": [],
   "source": [
    "def normal_sample(n):\n",
    "    U1 = np.random.uniform(0, 1, size=n//2)\n",
    "    U2 = np.random.uniform(0, 1, size=n//2)\n",
    "    R = np.sqrt(-2 * np.log(U1))\n",
    "    theta = 2 * np.pi * U2\n",
    "    Z1 = R * np.cos(theta)\n",
    "    Z2 = R * np.sin(theta)\n",
    "    return np.concatenate([Z1, Z2])\n"
   ]
  },
  {
   "cell_type": "code",
   "execution_count": 18,
   "id": "979acf36",
   "metadata": {},
   "outputs": [
    {
     "name": "stdout",
     "output_type": "stream",
     "text": [
      "Chi-squared statistic (Normal): 31.2818, p-value: 0.0376\n",
      "Kolmogorov-Smirnov statistic (Normal): 0.0235, p-value: 0.6309\n",
      "Mean test passed (Normal): True, Variance test passed: True\n"
     ]
    }
   ],
   "source": [
    "def chi_square_test_normal(sample, bins=20):\n",
    "    n = len(sample)\n",
    "    # Bin edges covering a reasonable range of N(0,1)\n",
    "    bin_edges = np.linspace(-4, 4, bins + 1)\n",
    "    observed_counts, _ = np.histogram(sample, bins=bin_edges)\n",
    "    expected_probs = norm.cdf(bin_edges[1:]) - norm.cdf(bin_edges[:-1])\n",
    "    expected_counts = n * expected_probs\n",
    "\n",
    "    # Filter and normalize\n",
    "    mask = expected_counts > 0\n",
    "    observed_counts = observed_counts[mask]\n",
    "    expected_counts = expected_counts[mask]\n",
    "    expected_counts *= observed_counts.sum() / expected_counts.sum()\n",
    "\n",
    "    # Chi-squared test\n",
    "    chisq_stat, p_val = chisquare(f_obs=observed_counts, f_exp=expected_counts)\n",
    "    return chisq_stat, p_val\n",
    "\n",
    "def ks_test_normal_sample(n):\n",
    "    sample = normal_sample(n)\n",
    "    d_statistic, p_value = kstest(sample, 'norm')\n",
    "    return d_statistic, p_value\n",
    "\n",
    "def knuth_test_normal_sample(n):\n",
    "    sample = normal_sample(n)\n",
    "    mean = np.mean(sample)\n",
    "    variance = np.var(sample)\n",
    "    mean_test = np.abs(mean - 0) < 0.1\n",
    "    variance_test = np.abs(variance - 1) < 0.1\n",
    "    return mean_test, variance_test\n",
    "\n",
    "# Run and print results\n",
    "if __name__ == \"__main__\":\n",
    "    n = 1000\n",
    "\n",
    "    sample = normal_sample(n)\n",
    "    chisq_stat, p_val = chi_square_test_normal(sample)\n",
    "    print(f\"Chi-squared statistic (Normal): {chisq_stat:.4f}, p-value: {p_val:.4f}\")\n",
    "\n",
    "    d_statistic, p_value = ks_test_normal_sample(n)\n",
    "    print(f\"Kolmogorov-Smirnov statistic (Normal): {d_statistic:.4f}, p-value: {p_value:.4f}\")\n",
    "\n",
    "    mean_test, variance_test = knuth_test_normal_sample(n)\n",
    "    print(f\"Mean test passed (Normal): {mean_test}, Variance test passed: {variance_test}\")"
   ]
  },
  {
   "cell_type": "markdown",
   "id": "8f94c9bf",
   "metadata": {},
   "source": [
    "Pareto"
   ]
  },
  {
   "cell_type": "code",
   "execution_count": 20,
   "id": "c0a4b3bb",
   "metadata": {},
   "outputs": [],
   "source": [
    "def pareto_sample(n, k, beta=1.0):\n",
    "    U = np.random.uniform(0, 1, size=n)\n",
    "    return beta * (U ** (-1 / k))\n"
   ]
  },
  {
   "cell_type": "code",
   "execution_count": 36,
   "id": "54ac5c05",
   "metadata": {},
   "outputs": [
    {
     "name": "stdout",
     "output_type": "stream",
     "text": [
      "Chi-squared statistic (Pareto): 10.3692, p-value: 0.9432\n",
      "Kolmogorov-Smirnov statistic (Pareto): 0.7603, p-value: 0.0000\n",
      "Mean test passed (Pareto): True, Variance test passed: False\n"
     ]
    }
   ],
   "source": [
    "def chi_square_test_pareto(sample, k, beta=1.0, bins=20):\n",
    "    n = len(sample)\n",
    "    # Bin edges from beta to some high quantile (say 99.5%)\n",
    "    high = pareto.ppf(0.995, b=k, scale=beta)\n",
    "    bin_edges = np.linspace(beta, high, bins + 1)\n",
    "    \n",
    "    observed_counts, _ = np.histogram(sample, bins=bin_edges)\n",
    "    expected_probs = pareto.cdf(bin_edges[1:], b=k, scale=beta) - pareto.cdf(bin_edges[:-1], b=k, scale=beta)\n",
    "    expected_counts = n * expected_probs\n",
    "\n",
    "    # Filter and normalize\n",
    "    mask = expected_counts > 0\n",
    "    observed_counts = observed_counts[mask]\n",
    "    expected_counts = expected_counts[mask]\n",
    "    expected_counts *= observed_counts.sum() / expected_counts.sum()\n",
    "\n",
    "    chisq_stat, p_val = chisquare(f_obs=observed_counts, f_exp=expected_counts)\n",
    "    return chisq_stat, p_val\n",
    "\n",
    "def ks_test_pareto_sample(n, k, beta=1.0):\n",
    "    sample = pareto_sample(n, k, beta)\n",
    "    d_statistic, p_value = kstest(sample, 'pareto', args=(k, beta))\n",
    "    return d_statistic, p_value\n",
    "\n",
    "def knuth_test_pareto_sample(n, k, beta=1.0):\n",
    "    sample = pareto_sample(n, k, beta)\n",
    "    mean = np.mean(sample)\n",
    "    variance = np.var(sample)\n",
    "\n",
    "    # Theoretical values (for k > 2)\n",
    "    mean_theory = k * beta / (k - 1) if k > 1 else np.nan\n",
    "    var_theory = (k * beta**2) / ((k - 1)**2 * (k - 2)) if k > 2 else np.nan\n",
    "\n",
    "    mean_test = np.abs(mean - mean_theory) < 0.1 * mean_theory if k > 1 else False\n",
    "    variance_test = np.abs(variance - var_theory) < 0.1 * var_theory if k > 2 else False\n",
    "\n",
    "    return mean_test, variance_test\n",
    "\n",
    "# Run Pareto tests\n",
    "if __name__ == \"__main__\":\n",
    "    n = 10000\n",
    "    k = 2.05\n",
    "    beta = 1.0\n",
    "\n",
    "    sample = pareto_sample(n, k, beta)\n",
    "    chisq_stat, p_val = chi_square_test_pareto(sample, k, beta)\n",
    "    print(f\"Chi-squared statistic (Pareto): {chisq_stat:.4f}, p-value: {p_val:.4f}\")\n",
    "\n",
    "    d_statistic, p_value = ks_test_pareto_sample(n, k, beta)\n",
    "    print(f\"Kolmogorov-Smirnov statistic (Pareto): {d_statistic:.4f}, p-value: {p_value:.4f}\")\n",
    "\n",
    "    mean_test, variance_test = knuth_test_pareto_sample(n, k, beta)\n",
    "    print(f\"Mean test passed (Pareto): {mean_test}, Variance test passed: {variance_test}\")"
   ]
  },
  {
   "cell_type": "code",
   "execution_count": null,
   "id": "14fe53d6",
   "metadata": {},
   "outputs": [],
   "source": [
    "def plot_histogram(data, dist_pdf, title, support=None):\n",
    "    plt.hist(data, bins=50, density=True, alpha=0.6, label=\"Simulated\")\n",
    "    x = np.linspace(min(data), max(data), 500) if support is None else np.linspace(*support, 500)\n",
    "    plt.plot(x, dist_pdf(x), 'r-', lw=2, label=\"Analytical PDF\")\n",
    "    plt.title(title)\n",
    "    plt.legend()\n",
    "    plt.show()\n"
   ]
  },
  {
   "cell_type": "code",
   "execution_count": null,
   "id": "1fe8a8af",
   "metadata": {},
   "outputs": [
    {
     "data": {
      "image/png": "[encoded data removed]",
      "text/plain": [
       "<Figure size 640x480 with 1 Axes>"
      ]
     },
     "metadata": {},
     "output_type": "display_data"
    }
   ],
   "source": [
    "k=4\n",
    "samples = pareto_sample(10000, k=k, beta=1.0)\n",
    "plot_histogram(samples, lambda x: pareto.pdf(x, b=k, scale=1),\n",
    "                f\"Pareto Distribution (k={k}, beta=1)\")\n"
   ]
  }
 ],
 "metadata": {
  "kernelspec": {
   "display_name": "base",
   "language": "python",
   "name": "python3"
  },
  "language_info": {
   "codemirror_mode": {
    "name": "ipython",
    "version": 3
   },
   "file_extension": ".py",
   "mimetype": "text/x-python",
   "name": "python",
   "nbconvert_exporter": "python",
   "pygments_lexer": "ipython3",
   "version": "3.11.7"
  }
 },
 "nbformat": 4,
 "nbformat_minor": 5
}
